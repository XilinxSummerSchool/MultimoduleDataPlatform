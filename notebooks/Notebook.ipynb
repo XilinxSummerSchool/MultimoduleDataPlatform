{
 "cells": [
  {
   "cell_type": "code",
   "execution_count": null,
   "metadata": {},
   "outputs": [],
   "source": [
    "import os\n",
    "import driver\n",
    "import numpy as np\n",
    "from pynq import Overlay\n",
    "from PIL import Image,ImageFile"
   ]
  },
  {
   "cell_type": "code",
   "execution_count": null,
   "metadata": {},
   "outputs": [],
   "source": [
    "conv2d_0_kernel  = np.load('../data_npy/pynq_net_conv2d_kernel_0.npy')\n",
    "conv2d_0_bias    = np.load('../data_npy/pynq_net_conv2d_bias_0.npy')\n",
    "\n",
    "conv2d_1_kernel  = np.load('../data_npy/pynq_net_conv2d_1_kernel_0.npy')\n",
    "conv2d_1_bias    = np.load('../data_npy/pynq_net_conv2d_1_bias_0.npy')\n",
    "\n",
    "conv2d_2_kernel  = np.load('../data_npy/pynq_net_conv2d_2_kernel_0.npy')\n",
    "conv2d_2_bias    = np.load('../data_npy/pynq_net_conv2d_2_bias_0.npy')\n",
    "\n",
    "conv2d_3_kernel  = np.load('../data_npy/pynq_net_conv2d_3_kernel_0.npy')\n",
    "conv2d_3_bias    = np.load('../data_npy/pynq_net_conv2d_3_bias_0.npy')\n",
    "\n",
    "conv2d_4_kernel  = np.load('../data_npy/pynq_net_conv2d_4_kernel_0.npy')\n",
    "conv2d_4_bias    = np.load('../data_npy/pynq_net_conv2d_4_bias_0.npy')\n",
    "\n",
    "dense_0_kernel   = np.load('../data_npy/pynq_net_dense_kernel_0.npy')\n",
    "dense_0_bias     = np.load('../data_npy/pynq_net_dense_bias_0.npy')\n",
    "\n",
    "dense_1_kernel   = np.load('../data_npy/pynq_net_dense_1_kernel_0.npy')\n",
    "dense_1_bias     = np.load('../data_npy/pynq_net_dense_1_bias_0.npy')\n",
    "\n",
    "dense_2_kernel   = np.load('../data_npy/fusionnet_dense_kernel_0.npy')\n",
    "dense_2_bias     = np.load('../data_npy/fusionnet_dense_bias_0.npy')"
   ]
  },
  {
   "cell_type": "code",
   "execution_count": null,
   "metadata": {},
   "outputs": [],
   "source": [
    "overlay = Overlay(\"fusion.bit\")"
   ]
  },
  {
   "cell_type": "code",
   "execution_count": null,
   "metadata": {},
   "outputs": [],
   "source": [
    "quant_scale=4096\n",
    "overlay.cnn.load_weight_conv(conv2d_0_kernel,conv2d_0_bias, 1, quant_scale,10)\n",
    "overlay.cnn.load_weight_conv(conv2d_1_kernel,conv2d_1_bias, 2, quant_scale, 1)\n",
    "overlay.cnn.load_weight_conv(conv2d_2_kernel,conv2d_2_bias, 3, quant_scale, 1)\n",
    "overlay.cnn.load_weight_conv(conv2d_3_kernel,conv2d_3_bias, 4, quant_scale, 1)\n",
    "overlay.cnn.load_weight_conv(conv2d_4_kernel,conv2d_4_bias, 5, quant_scale, 1)\n",
    "overlay.cnn.load_weight_fc(dense_0_kernel,dense_0_bias, 6, quant_scale, 1)\n",
    "overlay.cnn.load_weight_fc(dense_1_kernel,dense_1_bias, 7, quant_scale, 1)\n",
    "\n",
    "overlay.mlp.load_weight_fc_mlp(dense_2_kernel,dense_2_bias, 6, quant_scale, 1)"
   ]
  },
  {
   "cell_type": "code",
   "execution_count": null,
   "metadata": {},
   "outputs": [],
   "source": [
    "def generateds(img_path):\n",
    "    img = Image.open(img_path)  # 读入图片\n",
    "    img = np.array(img.convert('L'))  # 图片变为8位宽灰度值的np.array格式\n",
    "    img   = img / 10.0\n",
    "    x = []\n",
    "    x.append(img)  # 归一化后的数据，贴到列表x\n",
    "    x = np.array(x)  # 变为np.array格式\n",
    "    x = x[:,:,:,np.newaxis]\n",
    "    return x "
   ]
  },
  {
   "cell_type": "code",
   "execution_count": null,
   "metadata": {},
   "outputs": [],
   "source": [
    "x = generateds('./5_1.jpg')"
   ]
  },
  {
   "cell_type": "code",
   "execution_count": null,
   "metadata": {},
   "outputs": [],
   "source": [
    "result_vision = overlay.cnn.execute_s(x,1,256,10,1)"
   ]
  },
  {
   "cell_type": "code",
   "execution_count": null,
   "metadata": {},
   "outputs": [],
   "source": [
    "result_vision = result_vision.reshape((1,10))"
   ]
  },
  {
   "cell_type": "code",
   "execution_count": null,
   "metadata": {},
   "outputs": [],
   "source": [
    "leap_input = np.load('../data_npy/leap.npy')"
   ]
  },
  {
   "cell_type": "code",
   "execution_count": null,
   "metadata": {},
   "outputs": [],
   "source": [
    "leap_input = leap_input.reshape(1,2)"
   ]
  },
  {
   "cell_type": "code",
   "execution_count": null,
   "metadata": {},
   "outputs": [],
   "source": [
    "input_fusion = np.hstack((result_vision,leap_input))"
   ]
  },
  {
   "cell_type": "code",
   "execution_count": null,
   "metadata": {},
   "outputs": [],
   "source": [
    "overlay.mlp.execute_s_mlp(input_fusion,12,1,10,1)"
   ]
  }
 ],
 "metadata": {
  "kernelspec": {
   "display_name": "Python 3",
   "language": "python",
   "name": "python3"
  },
  "language_info": {
   "codemirror_mode": {
    "name": "ipython",
    "version": 3
   },
   "file_extension": ".py",
   "mimetype": "text/x-python",
   "name": "python",
   "nbconvert_exporter": "python",
   "pygments_lexer": "ipython3",
   "version": "3.6.5"
  }
 },
 "nbformat": 4,
 "nbformat_minor": 2
}
